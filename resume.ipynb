{
 "cells": [
  {
   "cell_type": "code",
   "execution_count": null,
   "metadata": {},
   "outputs": [
    {
     "name": "stdout",
     "output_type": "stream",
     "text": [
      "RESUME BUILDER\n",
      "Fill all the fields\n",
      "\n",
      "\n",
      "    1. Contact Information\n",
      "    2. Career Objection\n",
      "    3. Educational Objective\n",
      "    4. Work Experience\n",
      "    5. My resume\n",
      "    6. View resume\n",
      "    \n"
     ]
    },
    {
     "name": "stdin",
     "output_type": "stream",
     "text": [
      "enter your choice:- 1\n"
     ]
    },
    {
     "name": "stdout",
     "output_type": "stream",
     "text": [
      "\n",
      "\n",
      "Contact Information\n"
     ]
    },
    {
     "name": "stdin",
     "output_type": "stream",
     "text": [
      "Name:-  nnamdi\n",
      "Email:-  blessedmarcel1@gmail.com\n",
      "Mobile Number:-  07034947199\n",
      "Twitter:-  kdj\n",
      "Linkedin:-  kdj\n",
      " kdjkfdkjfd\n"
     ]
    },
    {
     "name": "stdout",
     "output_type": "stream",
     "text": [
      "Fill all the fields\n",
      "\n",
      "\n",
      "    1. Contact Information\n",
      "    2. Career Objection\n",
      "    3. Educational Objective\n",
      "    4. Work Experience\n",
      "    5. My resume\n",
      "    6. View resume\n",
      "    \n"
     ]
    },
    {
     "name": "stdin",
     "output_type": "stream",
     "text": [
      "enter your choice:- 2\n"
     ]
    },
    {
     "name": "stdout",
     "output_type": "stream",
     "text": [
      "Select any career Objective\n",
      "\n",
      "1.To secure a position where I can efficiently contribute my skills and abilities to the growth\n",
      "                of the organization and build my professional career\n",
      "                \n",
      "2.To associate with vibrant organization, to fully utilize my knowledge, skills and contribute to the\n",
      "                overall growth of the orgnization\n",
      "                \n",
      "\n",
      "3.Input yours.\n"
     ]
    },
    {
     "name": "stdin",
     "output_type": "stream",
     "text": [
      "select any option:-  2\n",
      " 2\n"
     ]
    },
    {
     "name": "stdout",
     "output_type": "stream",
     "text": [
      "Fill all the fields\n",
      "\n",
      "\n",
      "    1. Contact Information\n",
      "    2. Career Objection\n",
      "    3. Educational Objective\n",
      "    4. Work Experience\n",
      "    5. My resume\n",
      "    6. View resume\n",
      "    \n"
     ]
    },
    {
     "name": "stdin",
     "output_type": "stream",
     "text": [
      "enter your choice:- 3\n"
     ]
    },
    {
     "name": "stdout",
     "output_type": "stream",
     "text": [
      "Education Qualification:- \n"
     ]
    },
    {
     "name": "stdin",
     "output_type": "stream",
     "text": [
      "Name of Graduated Institution:-  kwasu\n",
      "Bsc, Tech:-  BSC\n",
      "Discipline:-  Computer scienc\n",
      "Year of graduation 2021\n",
      " 3\n"
     ]
    },
    {
     "name": "stdout",
     "output_type": "stream",
     "text": [
      "Fill all the fields\n",
      "\n",
      "\n",
      "    1. Contact Information\n",
      "    2. Career Objection\n",
      "    3. Educational Objective\n",
      "    4. Work Experience\n",
      "    5. My resume\n",
      "    6. View resume\n",
      "    \n"
     ]
    },
    {
     "name": "stdin",
     "output_type": "stream",
     "text": [
      "enter your choice:- 4\n"
     ]
    },
    {
     "name": "stdout",
     "output_type": "stream",
     "text": [
      "Work Experience\n"
     ]
    },
    {
     "name": "stdin",
     "output_type": "stream",
     "text": [
      "Name of Company:-  kwasu\n",
      "Position held:-  manager\n",
      "No of years spent:-  10\n",
      " 4\n"
     ]
    },
    {
     "name": "stdout",
     "output_type": "stream",
     "text": [
      "Fill all the fields\n",
      "\n",
      "\n",
      "    1. Contact Information\n",
      "    2. Career Objection\n",
      "    3. Educational Objective\n",
      "    4. Work Experience\n",
      "    5. My resume\n",
      "    6. View resume\n",
      "    \n"
     ]
    },
    {
     "name": "stdin",
     "output_type": "stream",
     "text": [
      "enter your choice:- 5\n",
      " 6\n"
     ]
    },
    {
     "name": "stdout",
     "output_type": "stream",
     "text": [
      "Fill all the fields\n",
      "\n",
      "\n",
      "    1. Contact Information\n",
      "    2. Career Objection\n",
      "    3. Educational Objective\n",
      "    4. Work Experience\n",
      "    5. My resume\n",
      "    6. View resume\n",
      "    \n"
     ]
    },
    {
     "name": "stdin",
     "output_type": "stream",
     "text": [
      "enter your choice:- 6\n"
     ]
    }
   ],
   "source": [
    "import os\n",
    "i = 1\n",
    "print (\"RESUME BUILDER\")\n",
    "\n",
    "choice1 = \"\"\"To secure a position where I can efficiently contribute my skills and abilities to the growth\n",
    "of the organization and build my professional career.\"\"\"\n",
    "\n",
    "choice2 = \"\"\"To associate with vibrant organization, to fully utilize my knowledge, skills and contribute to the\n",
    "overall growth of the orgnization\"\"\"\n",
    "\n",
    "while(i<2):\n",
    "    os.system(\"tput setaf 1\")\n",
    "    print (\"Fill all the fields\")\n",
    "    os.system(\"tput setaf 0\")\n",
    "    os.system(\"tput setaf 2\")\n",
    "    print(\"\"\"\\n\n",
    "    1. Contact Information\n",
    "    2. Career Objection\n",
    "    3. Educational Objective\n",
    "    4. Work Experience\n",
    "    5. My resume\n",
    "    6. View resume\n",
    "    \"\"\")\n",
    "    os.system(\"tput setaf 0\")\n",
    "    os.system(\"tput setaf 1\")\n",
    "    ch=input(\"enter your choice:-\")\n",
    "    os.system(\"tput setaf 0\")\n",
    "    if int(ch)==1:\n",
    "        os.system(\"tput setaf 0\")\n",
    "        print(\"\\n\\nContact Information\")\n",
    "        os.system(\"tput setaf 0\")\n",
    "        name=input(\"Name:- \")\n",
    "        Email=input(\"Email:- \")\n",
    "        Phone=input(\"Mobile Number:- \")\n",
    "        twitter=input(\"Twitter:- \")\n",
    "        linkedin=input(\"Linkedin:- \")\n",
    "    \n",
    "    elif int (ch) == 2:\n",
    "        os.system(\"tput setaf 1\")\n",
    "        print(\"Select any career Objective\")\n",
    "        os.system(\"tput setaf 0\")\n",
    "        print(\"\"\"\\n1.To secure a position where I can efficiently contribute my skills and abilities to the growth\n",
    "                of the organization and build my professional career\n",
    "                \\n2.To associate with vibrant organization, to fully utilize my knowledge, skills and contribute to the\n",
    "                overall growth of the orgnization\n",
    "                \\n\\n3.Input yours.\"\"\")\n",
    "        selectoption=input(\"select any option:- \")\n",
    "        \n",
    "        if int(selectoption) == 1:\n",
    "            choice = choice1\n",
    "        elif int(selectoption) == 2:\n",
    "            choice = choice2\n",
    "        elif int(selectoption) == 3:\n",
    "            choice = input (\"Write from here:- \")\n",
    "        else:\n",
    "            print(\"Select the right option\")\n",
    "        \n",
    "    elif int(ch)==3:\n",
    "        os.system(\"tput setaf 1\")\n",
    "        print(\"Education Qualification:- \")\n",
    "        os.system(\"tput setaf 0\")\n",
    "        institution = input(\"Name of Graduated Institution:- \")\n",
    "        degree = input (\"Bsc, Tech:- \")\n",
    "        discipline = input (\"Discipline:- \")\n",
    "        graduation = input (\"Year of graduation\")\n",
    "        \n",
    "    elif int(ch)==4:\n",
    "        os.system(\"tput setaf 1\")\n",
    "        print(\"Work Experience\")\n",
    "        os.system(\"tput setaf 0\")\n",
    "        company= input (\"Name of Company:- \")\n",
    "        position= input (\"Position held:- \")\n",
    "        year= input (\"No of years spent:- \")\n",
    "\n",
    "    elif int(ch)==5:\n",
    "        fh=open(\"/home/ctrlaltfix/Desktop/resume.txt\", \"w\")\n",
    "        fh.write(\"                            Resume\")\n",
    "        fh.write(\"\\n\\nName:-\"+name)\n",
    "        fh.write(\"\\nEmail:-\"+Email)\n",
    "        fh.write(\"\\nMobile:-\"+Phone)\n",
    "        fh.write(\"\\nTwitter:-\"+twitter)\n",
    "        fh.write(\"\\nLinkedin:-\"+linkedin)\n",
    "        fh.write(\"\\n_____________________________________________________________________________\")\n",
    "        fh.write(\"\\n\\nCAREER OBJECTIVE:-\")\n",
    "        fh.write(\"\\n\\n\"+choice)\n",
    "        fh.write(\"\\n_____________________________________________________________________________\")\n",
    "        fh.write(\"\\n\\nEDUCATIONAL QUALIFICATION\")\n",
    "        fh.write(\"\\n\"+institution+\" , \"+degree+\" in \"+discipline+\" graduated in \"+graduation)\n",
    "        fh.write(\"\\n_____________________________________________________________________________\")\n",
    "        fh.write(\"\\n\\nWork Experience:-\")\n",
    "        fh.write(\"\\n\"+company+\" was the \"+position+\" spent \"+year+\" year in the company \")\n",
    "        \n",
    "    elif int(ch)==6:\n",
    "        os.system(\"gedit /home/ctrlaltfix/Desktop/resume.txt\")\n",
    "    \n",
    "    else:\n",
    "        print(\"Enter the correct option\")\n",
    "        \n",
    "    input()\n",
    "    \n",
    "    "
   ]
  },
  {
   "cell_type": "code",
   "execution_count": null,
   "metadata": {},
   "outputs": [],
   "source": []
  }
 ],
 "metadata": {
  "kernelspec": {
   "display_name": "Python 3",
   "language": "python",
   "name": "python3"
  },
  "language_info": {
   "codemirror_mode": {
    "name": "ipython",
    "version": 3
   },
   "file_extension": ".py",
   "mimetype": "text/x-python",
   "name": "python",
   "nbconvert_exporter": "python",
   "pygments_lexer": "ipython3",
   "version": "3.7.4"
  }
 },
 "nbformat": 4,
 "nbformat_minor": 4
}
